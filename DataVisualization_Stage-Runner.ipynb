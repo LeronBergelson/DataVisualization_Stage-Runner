{
 "cells": [
  {
   "cell_type": "code",
   "execution_count": 61,
   "id": "73105eec",
   "metadata": {},
   "outputs": [],
   "source": [
    "import os\n",
    "import mysql.connector\n",
    "import pandas as pd\n",
    "import numpy as np\n",
    "import matplotlib.pyplot as plt \n",
    "import numpy as np\n",
    "import seaborn as sns\n",
    "import matplotlib.ticker as ticker\n",
    "%matplotlib inline\n",
    "\n",
    "from scipy.stats import norm, gaussian_kde\n",
    "\n",
    "connection = mysql.connector.connect(user='root', \n",
    "                                    passwd='mypass', \n",
    "                                    host= '127.0.0.1',\n",
    "                                    port=3306,\n",
    "                                    auth_plugin='mysql_native_password')"
   ]
  },
  {
   "cell_type": "code",
   "execution_count": 62,
   "id": "ae50cf21",
   "metadata": {},
   "outputs": [],
   "source": [
    "playerTable = pd.read_sql_query('SHOW TABLES FROM playerpersistance', connection)\n"
   ]
  },
  {
   "cell_type": "code",
   "execution_count": 63,
   "id": "c99a6686",
   "metadata": {
    "scrolled": true
   },
   "outputs": [
    {
     "data": {
      "text/html": [
       "<div>\n",
       "<style scoped>\n",
       "    .dataframe tbody tr th:only-of-type {\n",
       "        vertical-align: middle;\n",
       "    }\n",
       "\n",
       "    .dataframe tbody tr th {\n",
       "        vertical-align: top;\n",
       "    }\n",
       "\n",
       "    .dataframe thead th {\n",
       "        text-align: right;\n",
       "    }\n",
       "</style>\n",
       "<table border=\"1\" class=\"dataframe\">\n",
       "  <thead>\n",
       "    <tr style=\"text-align: right;\">\n",
       "      <th></th>\n",
       "      <th>Tables_in_playerpersistance</th>\n",
       "    </tr>\n",
       "  </thead>\n",
       "  <tbody>\n",
       "    <tr>\n",
       "      <th>0</th>\n",
       "      <td>coloured_stage_data</td>\n",
       "    </tr>\n",
       "    <tr>\n",
       "      <th>1</th>\n",
       "      <td>user_player_data</td>\n",
       "    </tr>\n",
       "  </tbody>\n",
       "</table>\n",
       "</div>"
      ],
      "text/plain": [
       "  Tables_in_playerpersistance\n",
       "0         coloured_stage_data\n",
       "1            user_player_data"
      ]
     },
     "execution_count": 63,
     "metadata": {},
     "output_type": "execute_result"
    }
   ],
   "source": [
    "playerTable"
   ]
  },
  {
   "cell_type": "code",
   "execution_count": 64,
   "id": "66a214b6",
   "metadata": {},
   "outputs": [],
   "source": [
    "import os\n",
    "import mysql.connector\n",
    "import pandas as pd\n",
    "import numpy as np\n",
    "import matplotlib.pyplot as plt \n",
    "import numpy as np\n",
    "import seaborn as sns\n",
    "import matplotlib.ticker as ticker\n",
    "%matplotlib inline\n",
    "\n",
    "from scipy.stats import norm, gaussian_kde\n"
   ]
  },
  {
   "cell_type": "code",
   "execution_count": 73,
   "id": "dfac42bf",
   "metadata": {},
   "outputs": [],
   "source": [
    "playerEmail = '\\'leronbergelson@gmail.com\\''\n",
    "\n",
    "\n",
    "players = 'SELECT (c.bluestagecompletiontime) as bluestagecompletiontime,\\\n",
    "                  (c.yellowstagecompletiontime) as yellowstagecompletiontime,\\\n",
    "                  (c.redstagecompletiontime) as redstagecompletiontime\\\n",
    "           FROM playerpersistance.coloured_stage_data c \\\n",
    "           WHERE c.Email = ' + playerEmail\n"
   ]
  },
  {
   "cell_type": "code",
   "execution_count": 74,
   "id": "da85cfab",
   "metadata": {},
   "outputs": [],
   "source": [
    "df = pd.read_sql_query(players, connection)"
   ]
  },
  {
   "cell_type": "code",
   "execution_count": 75,
   "id": "13c481c8",
   "metadata": {},
   "outputs": [
    {
     "data": {
      "text/html": [
       "<div>\n",
       "<style scoped>\n",
       "    .dataframe tbody tr th:only-of-type {\n",
       "        vertical-align: middle;\n",
       "    }\n",
       "\n",
       "    .dataframe tbody tr th {\n",
       "        vertical-align: top;\n",
       "    }\n",
       "\n",
       "    .dataframe thead th {\n",
       "        text-align: right;\n",
       "    }\n",
       "</style>\n",
       "<table border=\"1\" class=\"dataframe\">\n",
       "  <thead>\n",
       "    <tr style=\"text-align: right;\">\n",
       "      <th></th>\n",
       "      <th>bluestagecompletiontime</th>\n",
       "      <th>yellowstagecompletiontime</th>\n",
       "      <th>redstagecompletiontime</th>\n",
       "    </tr>\n",
       "  </thead>\n",
       "  <tbody>\n",
       "    <tr>\n",
       "      <th>0</th>\n",
       "      <td>40</td>\n",
       "      <td>67</td>\n",
       "      <td>130</td>\n",
       "    </tr>\n",
       "    <tr>\n",
       "      <th>1</th>\n",
       "      <td>35</td>\n",
       "      <td>64</td>\n",
       "      <td>96</td>\n",
       "    </tr>\n",
       "    <tr>\n",
       "      <th>2</th>\n",
       "      <td>28</td>\n",
       "      <td>37</td>\n",
       "      <td>62</td>\n",
       "    </tr>\n",
       "    <tr>\n",
       "      <th>3</th>\n",
       "      <td>36</td>\n",
       "      <td>54</td>\n",
       "      <td>88</td>\n",
       "    </tr>\n",
       "    <tr>\n",
       "      <th>4</th>\n",
       "      <td>25</td>\n",
       "      <td>47</td>\n",
       "      <td>64</td>\n",
       "    </tr>\n",
       "    <tr>\n",
       "      <th>5</th>\n",
       "      <td>20</td>\n",
       "      <td>49</td>\n",
       "      <td>56</td>\n",
       "    </tr>\n",
       "    <tr>\n",
       "      <th>6</th>\n",
       "      <td>27</td>\n",
       "      <td>48</td>\n",
       "      <td>74</td>\n",
       "    </tr>\n",
       "    <tr>\n",
       "      <th>7</th>\n",
       "      <td>42</td>\n",
       "      <td>33</td>\n",
       "      <td>79</td>\n",
       "    </tr>\n",
       "    <tr>\n",
       "      <th>8</th>\n",
       "      <td>31</td>\n",
       "      <td>65</td>\n",
       "      <td>105</td>\n",
       "    </tr>\n",
       "  </tbody>\n",
       "</table>\n",
       "</div>"
      ],
      "text/plain": [
       "   bluestagecompletiontime  yellowstagecompletiontime  redstagecompletiontime\n",
       "0                       40                         67                     130\n",
       "1                       35                         64                      96\n",
       "2                       28                         37                      62\n",
       "3                       36                         54                      88\n",
       "4                       25                         47                      64\n",
       "5                       20                         49                      56\n",
       "6                       27                         48                      74\n",
       "7                       42                         33                      79\n",
       "8                       31                         65                     105"
      ]
     },
     "execution_count": 75,
     "metadata": {},
     "output_type": "execute_result"
    }
   ],
   "source": [
    "df"
   ]
  },
  {
   "cell_type": "code",
   "execution_count": 76,
   "id": "0b811736",
   "metadata": {},
   "outputs": [
    {
     "data": {
      "image/png": "[encoded data removed]",
      "text/plain": [
       "<Figure size 1080x720 with 1 Axes>"
      ]
     },
     "metadata": {
      "needs_background": "light"
     },
     "output_type": "display_data"
    }
   ],
   "source": [
    "axs = df.plot(figsize=(15, 10), subplots=False, color=['blue', 'orange', 'red'])\n",
    "start, end = axs.get_xlim()\n",
    "axs.xaxis.set_ticks(np.arange(start + 0.15, end))\n",
    "axs.xaxis.set_major_formatter(ticker.FormatStrFormatter('%1.0f'))\n",
    "plt.show()"
   ]
  },
  {
   "cell_type": "code",
   "execution_count": null,
   "id": "38100079",
   "metadata": {},
   "outputs": [],
   "source": []
  },
  {
   "cell_type": "code",
   "execution_count": null,
   "id": "63b3d657",
   "metadata": {},
   "outputs": [],
   "source": []
  }
 ],
 "metadata": {
  "kernelspec": {
   "display_name": "Python 3 (ipykernel)",
   "language": "python",
   "name": "python3"
  },
  "language_info": {
   "codemirror_mode": {
    "name": "ipython",
    "version": 3
   },
   "file_extension": ".py",
   "mimetype": "text/x-python",
   "name": "python",
   "nbconvert_exporter": "python",
   "pygments_lexer": "ipython3",
   "version": "3.10.1"
  }
 },
 "nbformat": 4,
 "nbformat_minor": 5
}
