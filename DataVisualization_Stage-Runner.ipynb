{
 "cells": [
  {
   "cell_type": "code",
   "execution_count": 9,
   "id": "1fc8ec92",
   "metadata": {},
   "outputs": [],
   "source": [
    "connection = mysql.connector.connect(user='root', \n",
    "                                    passwd='mypass', \n",
    "                                    host= '127.0.0.1',\n",
    "                                    port=3306,\n",
    "                                    auth_plugin='mysql_native_password')"
   ]
  },
  {
   "cell_type": "code",
   "execution_count": 10,
   "id": "e9a51729",
   "metadata": {},
   "outputs": [],
   "source": [
    "playerTable = pd.read_sql_query('SHOW TABLES FROM playerpersistance', connection)\n"
   ]
  },
  {
   "cell_type": "code",
   "execution_count": 11,
   "id": "01675068",
   "metadata": {},
   "outputs": [
    {
     "data": {
      "text/html": [
       "<div>\n",
       "<style scoped>\n",
       "    .dataframe tbody tr th:only-of-type {\n",
       "        vertical-align: middle;\n",
       "    }\n",
       "\n",
       "    .dataframe tbody tr th {\n",
       "        vertical-align: top;\n",
       "    }\n",
       "\n",
       "    .dataframe thead th {\n",
       "        text-align: right;\n",
       "    }\n",
       "</style>\n",
       "<table border=\"1\" class=\"dataframe\">\n",
       "  <thead>\n",
       "    <tr style=\"text-align: right;\">\n",
       "      <th></th>\n",
       "      <th>Tables_in_playerpersistance</th>\n",
       "    </tr>\n",
       "  </thead>\n",
       "  <tbody>\n",
       "    <tr>\n",
       "      <th>0</th>\n",
       "      <td>coloured_stage_data</td>\n",
       "    </tr>\n",
       "    <tr>\n",
       "      <th>1</th>\n",
       "      <td>user_player_data</td>\n",
       "    </tr>\n",
       "  </tbody>\n",
       "</table>\n",
       "</div>"
      ],
      "text/plain": [
       "  Tables_in_playerpersistance\n",
       "0         coloured_stage_data\n",
       "1            user_player_data"
      ]
     },
     "execution_count": 11,
     "metadata": {},
     "output_type": "execute_result"
    }
   ],
   "source": [
    "playerTable"
   ]
  },
  {
   "cell_type": "code",
   "execution_count": 12,
   "id": "3f5a7e16",
   "metadata": {},
   "outputs": [],
   "source": [
    "import os\n",
    "import mysql.connector\n",
    "import pandas as pd\n",
    "import numpy as np\n",
    "import matplotlib.pyplot as plt \n",
    "import numpy as np\n",
    "import seaborn as sns\n",
    "import matplotlib.ticker as ticker\n",
    "%matplotlib inline\n",
    "\n",
    "from scipy.stats import norm, gaussian_kde\n"
   ]
  },
  {
   "cell_type": "code",
   "execution_count": 13,
   "id": "e66bb15a",
   "metadata": {},
   "outputs": [],
   "source": [
    "playerEmail = '\\'leronbergelson@gmail.com\\''\n",
    "\n",
    "\n",
    "players = 'SELECT (c.bluestagecompletiontime) as bluestagecompletiontime,\\\n",
    "                  (c.yellowstagecompletiontime) as yellowstagecompletiontime,\\\n",
    "                  (c.redstagecompletiontime) as redstagecompletiontime\\\n",
    "           FROM playerpersistance.coloured_stage_data c \\\n",
    "           WHERE c.Email = ' + playerEmail\n"
   ]
  },
  {
   "cell_type": "code",
   "execution_count": 14,
   "id": "bd66c3ca",
   "metadata": {},
   "outputs": [],
   "source": [
    "df = pd.read_sql_query(players, connection)"
   ]
  },
  {
   "cell_type": "code",
   "execution_count": 15,
   "id": "8c8cdfdd",
   "metadata": {},
   "outputs": [
    {
     "data": {
      "text/html": [
       "<div>\n",
       "<style scoped>\n",
       "    .dataframe tbody tr th:only-of-type {\n",
       "        vertical-align: middle;\n",
       "    }\n",
       "\n",
       "    .dataframe tbody tr th {\n",
       "        vertical-align: top;\n",
       "    }\n",
       "\n",
       "    .dataframe thead th {\n",
       "        text-align: right;\n",
       "    }\n",
       "</style>\n",
       "<table border=\"1\" class=\"dataframe\">\n",
       "  <thead>\n",
       "    <tr style=\"text-align: right;\">\n",
       "      <th></th>\n",
       "      <th>bluestagecompletiontime</th>\n",
       "      <th>yellowstagecompletiontime</th>\n",
       "      <th>redstagecompletiontime</th>\n",
       "    </tr>\n",
       "  </thead>\n",
       "  <tbody>\n",
       "    <tr>\n",
       "      <th>0</th>\n",
       "      <td>45</td>\n",
       "      <td>54</td>\n",
       "      <td>67</td>\n",
       "    </tr>\n",
       "    <tr>\n",
       "      <th>1</th>\n",
       "      <td>41</td>\n",
       "      <td>48</td>\n",
       "      <td>57</td>\n",
       "    </tr>\n",
       "    <tr>\n",
       "      <th>2</th>\n",
       "      <td>35</td>\n",
       "      <td>40</td>\n",
       "      <td>45</td>\n",
       "    </tr>\n",
       "    <tr>\n",
       "      <th>3</th>\n",
       "      <td>32</td>\n",
       "      <td>37</td>\n",
       "      <td>42</td>\n",
       "    </tr>\n",
       "    <tr>\n",
       "      <th>4</th>\n",
       "      <td>11</td>\n",
       "      <td>17</td>\n",
       "      <td>23</td>\n",
       "    </tr>\n",
       "    <tr>\n",
       "      <th>5</th>\n",
       "      <td>14</td>\n",
       "      <td>19</td>\n",
       "      <td>14</td>\n",
       "    </tr>\n",
       "    <tr>\n",
       "      <th>6</th>\n",
       "      <td>12</td>\n",
       "      <td>21</td>\n",
       "      <td>25</td>\n",
       "    </tr>\n",
       "    <tr>\n",
       "      <th>7</th>\n",
       "      <td>15</td>\n",
       "      <td>35</td>\n",
       "      <td>31</td>\n",
       "    </tr>\n",
       "    <tr>\n",
       "      <th>8</th>\n",
       "      <td>67</td>\n",
       "      <td>40</td>\n",
       "      <td>503</td>\n",
       "    </tr>\n",
       "  </tbody>\n",
       "</table>\n",
       "</div>"
      ],
      "text/plain": [
       "   bluestagecompletiontime  yellowstagecompletiontime  redstagecompletiontime\n",
       "0                       45                         54                      67\n",
       "1                       41                         48                      57\n",
       "2                       35                         40                      45\n",
       "3                       32                         37                      42\n",
       "4                       11                         17                      23\n",
       "5                       14                         19                      14\n",
       "6                       12                         21                      25\n",
       "7                       15                         35                      31\n",
       "8                       67                         40                     503"
      ]
     },
     "execution_count": 15,
     "metadata": {},
     "output_type": "execute_result"
    }
   ],
   "source": [
    "df"
   ]
  },
  {
   "cell_type": "code",
   "execution_count": null,
   "id": "c0bdd5cf",
   "metadata": {},
   "outputs": [],
   "source": []
  }
 ],
 "metadata": {
  "kernelspec": {
   "display_name": "Python 3 (ipykernel)",
   "language": "python",
   "name": "python3"
  },
  "language_info": {
   "codemirror_mode": {
    "name": "ipython",
    "version": 3
   },
   "file_extension": ".py",
   "mimetype": "text/x-python",
   "name": "python",
   "nbconvert_exporter": "python",
   "pygments_lexer": "ipython3",
   "version": "3.10.1"
  }
 },
 "nbformat": 4,
 "nbformat_minor": 5
}
